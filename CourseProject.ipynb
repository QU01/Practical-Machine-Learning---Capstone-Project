{
 "cells": [
  {
   "cell_type": "markdown",
   "id": "6e16848e-c84d-440a-a5c6-4f1d3a6de82f",
   "metadata": {},
   "source": [
    "# **Course Project**"
   ]
  },
  {
   "cell_type": "markdown",
   "id": "f5bb124a-c31c-4368-a77a-b55a11c025cb",
   "metadata": {},
   "source": [
    "## **Background**\n",
    "Using devices such as Jawbone Up, Nike FuelBand, and Fitbit it is now possible to collect a large amount of data about personal activity relatively inexpensively. These type of devices are part of the quantified self movement – a group of enthusiasts who take measurements about themselves regularly to improve their health, to find patterns in their behavior, or because they are tech geeks. One thing that people regularly do is quantify how much of a particular activity they do, but they rarely quantify how well they do it. In this project, your goal will be to use data from accelerometers on the belt, forearm, arm, and dumbell of 6 participants. They were asked to perform barbell lifts correctly and incorrectly in 5 different ways. More information is available from the website here: http://groupware.les.inf.puc-rio.br/har (see the section on the Weight Lifting Exercise Dataset). \n",
    "\n",
    "## **Data**\n",
    "\n",
    "The training data for this project are available here: \n",
    "\n",
    "https://d396qusza40orc.cloudfront.net/predmachlearn/pml-training.csv\n",
    "\n",
    "The test data are available here:\n",
    "\n",
    "https://d396qusza40orc.cloudfront.net/predmachlearn/pml-testing.csv\n",
    "\n",
    "The data for this project come from this source: http://groupware.les.inf.puc-rio.br/har. If you use the document you create for this class for any purpose please cite them as they have been very generous in allowing their data to be used for this kind of assignment. \n",
    "\n",
    "## **What you should submit**\n",
    "\n",
    "The goal of your project is to predict the manner in which they did the exercise. This is the \"classe\" variable in the training set. You may use any of the other variables to predict with. You should create a report describing how you built your model, how you used cross validation, what you think the expected out of sample error is, and why you made the choices you did. You will also use your prediction model to predict 20 different test cases. \n",
    "\n",
    "## **Peer Review Portion**\n",
    "\n",
    "Your submission for the Peer Review portion should consist of a link to a Github repo with your R markdown and compiled HTML file describing your analysis. Please constrain the text of the writeup to < 2000 words and the number of figures to be less than 5. It will make it easier for the graders if you submit a repo with a gh-pages branch so the HTML page can be viewed online (and you always want to make it easy on graders :-).\n",
    "\n",
    "## **Course Project Prediction Quiz Portion**\n",
    "\n",
    "Apply your machine learning algorithm to the 20 test cases available in the test data above and submit your predictions in appropriate format to the Course Project Prediction Quiz for automated grading. \n",
    "\n",
    "## **Reproducibility**\n",
    "\n",
    "Due to security concerns with the exchange of R code, your code will not be run during the evaluation by your classmates. Please be sure that if they download the repo, they will be able to view the compiled HTML version of your analysis. "
   ]
  },
  {
   "cell_type": "markdown",
   "id": "0aaf2cba-f20a-458e-a5ec-255df245f231",
   "metadata": {},
   "source": [
    "## **Exploratory Data Analysis**"
   ]
  },
  {
   "cell_type": "code",
   "execution_count": 1,
   "id": "2283d9b8-5532-4b58-9fba-16162085689b",
   "metadata": {},
   "outputs": [
    {
     "name": "stderr",
     "output_type": "stream",
     "text": [
      "Loading required package: lattice\n",
      "\n",
      "Loading required package: ggplot2\n",
      "\n",
      "randomForest 4.6-14\n",
      "\n",
      "Type rfNews() to see new features/changes/bug fixes.\n",
      "\n",
      "\n",
      "Attaching package: ‘randomForest’\n",
      "\n",
      "\n",
      "The following object is masked from ‘package:ggplot2’:\n",
      "\n",
      "    margin\n",
      "\n",
      "\n",
      "Loaded gbm 2.1.8\n",
      "\n"
     ]
    }
   ],
   "source": [
    "library(caret)\n",
    "library(rpart)\n",
    "library(rpart.plot)\n",
    "library(RColorBrewer)\n",
    "library(randomForest)\n",
    "library(gbm)"
   ]
  },
  {
   "cell_type": "code",
   "execution_count": 2,
   "id": "61d1ef28-5d7e-405b-aba7-0b22f07c9e86",
   "metadata": {},
   "outputs": [],
   "source": [
    "training_data <- read.csv('pml-training.csv')\n",
    "testing_data <- read.csv('pml-testing.csv')"
   ]
  },
  {
   "cell_type": "code",
   "execution_count": 3,
   "id": "8e8a9326-6f55-43dd-bb4c-3785d1070652",
   "metadata": {},
   "outputs": [
    {
     "data": {
      "text/html": [
       "<table class=\"dataframe\">\n",
       "<caption>A data.frame: 6 × 160</caption>\n",
       "<thead>\n",
       "\t<tr><th></th><th scope=col>X</th><th scope=col>user_name</th><th scope=col>raw_timestamp_part_1</th><th scope=col>raw_timestamp_part_2</th><th scope=col>cvtd_timestamp</th><th scope=col>new_window</th><th scope=col>num_window</th><th scope=col>roll_belt</th><th scope=col>pitch_belt</th><th scope=col>yaw_belt</th><th scope=col>⋯</th><th scope=col>gyros_forearm_x</th><th scope=col>gyros_forearm_y</th><th scope=col>gyros_forearm_z</th><th scope=col>accel_forearm_x</th><th scope=col>accel_forearm_y</th><th scope=col>accel_forearm_z</th><th scope=col>magnet_forearm_x</th><th scope=col>magnet_forearm_y</th><th scope=col>magnet_forearm_z</th><th scope=col>classe</th></tr>\n",
       "\t<tr><th></th><th scope=col>&lt;int&gt;</th><th scope=col>&lt;chr&gt;</th><th scope=col>&lt;int&gt;</th><th scope=col>&lt;int&gt;</th><th scope=col>&lt;chr&gt;</th><th scope=col>&lt;chr&gt;</th><th scope=col>&lt;int&gt;</th><th scope=col>&lt;dbl&gt;</th><th scope=col>&lt;dbl&gt;</th><th scope=col>&lt;dbl&gt;</th><th scope=col>⋯</th><th scope=col>&lt;dbl&gt;</th><th scope=col>&lt;dbl&gt;</th><th scope=col>&lt;dbl&gt;</th><th scope=col>&lt;int&gt;</th><th scope=col>&lt;int&gt;</th><th scope=col>&lt;int&gt;</th><th scope=col>&lt;int&gt;</th><th scope=col>&lt;dbl&gt;</th><th scope=col>&lt;dbl&gt;</th><th scope=col>&lt;chr&gt;</th></tr>\n",
       "</thead>\n",
       "<tbody>\n",
       "\t<tr><th scope=row>1</th><td>1</td><td>carlitos</td><td>1323084231</td><td>788290</td><td>05/12/2011 11:23</td><td>no</td><td>11</td><td>1.41</td><td>8.07</td><td>-94.4</td><td>⋯</td><td>0.03</td><td> 0.00</td><td>-0.02</td><td>192</td><td>203</td><td>-215</td><td>-17</td><td>654</td><td>476</td><td>A</td></tr>\n",
       "\t<tr><th scope=row>2</th><td>2</td><td>carlitos</td><td>1323084231</td><td>808298</td><td>05/12/2011 11:23</td><td>no</td><td>11</td><td>1.41</td><td>8.07</td><td>-94.4</td><td>⋯</td><td>0.02</td><td> 0.00</td><td>-0.02</td><td>192</td><td>203</td><td>-216</td><td>-18</td><td>661</td><td>473</td><td>A</td></tr>\n",
       "\t<tr><th scope=row>3</th><td>3</td><td>carlitos</td><td>1323084231</td><td>820366</td><td>05/12/2011 11:23</td><td>no</td><td>11</td><td>1.42</td><td>8.07</td><td>-94.4</td><td>⋯</td><td>0.03</td><td>-0.02</td><td> 0.00</td><td>196</td><td>204</td><td>-213</td><td>-18</td><td>658</td><td>469</td><td>A</td></tr>\n",
       "\t<tr><th scope=row>4</th><td>4</td><td>carlitos</td><td>1323084232</td><td>120339</td><td>05/12/2011 11:23</td><td>no</td><td>12</td><td>1.48</td><td>8.05</td><td>-94.4</td><td>⋯</td><td>0.02</td><td>-0.02</td><td> 0.00</td><td>189</td><td>206</td><td>-214</td><td>-16</td><td>658</td><td>469</td><td>A</td></tr>\n",
       "\t<tr><th scope=row>5</th><td>5</td><td>carlitos</td><td>1323084232</td><td>196328</td><td>05/12/2011 11:23</td><td>no</td><td>12</td><td>1.48</td><td>8.07</td><td>-94.4</td><td>⋯</td><td>0.02</td><td> 0.00</td><td>-0.02</td><td>189</td><td>206</td><td>-214</td><td>-17</td><td>655</td><td>473</td><td>A</td></tr>\n",
       "\t<tr><th scope=row>6</th><td>6</td><td>carlitos</td><td>1323084232</td><td>304277</td><td>05/12/2011 11:23</td><td>no</td><td>12</td><td>1.45</td><td>8.06</td><td>-94.4</td><td>⋯</td><td>0.02</td><td>-0.02</td><td>-0.03</td><td>193</td><td>203</td><td>-215</td><td> -9</td><td>660</td><td>478</td><td>A</td></tr>\n",
       "</tbody>\n",
       "</table>\n"
      ],
      "text/latex": [
       "A data.frame: 6 × 160\n",
       "\\begin{tabular}{r|lllllllllllllllllllll}\n",
       "  & X & user\\_name & raw\\_timestamp\\_part\\_1 & raw\\_timestamp\\_part\\_2 & cvtd\\_timestamp & new\\_window & num\\_window & roll\\_belt & pitch\\_belt & yaw\\_belt & ⋯ & gyros\\_forearm\\_x & gyros\\_forearm\\_y & gyros\\_forearm\\_z & accel\\_forearm\\_x & accel\\_forearm\\_y & accel\\_forearm\\_z & magnet\\_forearm\\_x & magnet\\_forearm\\_y & magnet\\_forearm\\_z & classe\\\\\n",
       "  & <int> & <chr> & <int> & <int> & <chr> & <chr> & <int> & <dbl> & <dbl> & <dbl> & ⋯ & <dbl> & <dbl> & <dbl> & <int> & <int> & <int> & <int> & <dbl> & <dbl> & <chr>\\\\\n",
       "\\hline\n",
       "\t1 & 1 & carlitos & 1323084231 & 788290 & 05/12/2011 11:23 & no & 11 & 1.41 & 8.07 & -94.4 & ⋯ & 0.03 &  0.00 & -0.02 & 192 & 203 & -215 & -17 & 654 & 476 & A\\\\\n",
       "\t2 & 2 & carlitos & 1323084231 & 808298 & 05/12/2011 11:23 & no & 11 & 1.41 & 8.07 & -94.4 & ⋯ & 0.02 &  0.00 & -0.02 & 192 & 203 & -216 & -18 & 661 & 473 & A\\\\\n",
       "\t3 & 3 & carlitos & 1323084231 & 820366 & 05/12/2011 11:23 & no & 11 & 1.42 & 8.07 & -94.4 & ⋯ & 0.03 & -0.02 &  0.00 & 196 & 204 & -213 & -18 & 658 & 469 & A\\\\\n",
       "\t4 & 4 & carlitos & 1323084232 & 120339 & 05/12/2011 11:23 & no & 12 & 1.48 & 8.05 & -94.4 & ⋯ & 0.02 & -0.02 &  0.00 & 189 & 206 & -214 & -16 & 658 & 469 & A\\\\\n",
       "\t5 & 5 & carlitos & 1323084232 & 196328 & 05/12/2011 11:23 & no & 12 & 1.48 & 8.07 & -94.4 & ⋯ & 0.02 &  0.00 & -0.02 & 189 & 206 & -214 & -17 & 655 & 473 & A\\\\\n",
       "\t6 & 6 & carlitos & 1323084232 & 304277 & 05/12/2011 11:23 & no & 12 & 1.45 & 8.06 & -94.4 & ⋯ & 0.02 & -0.02 & -0.03 & 193 & 203 & -215 &  -9 & 660 & 478 & A\\\\\n",
       "\\end{tabular}\n"
      ],
      "text/markdown": [
       "\n",
       "A data.frame: 6 × 160\n",
       "\n",
       "| <!--/--> | X &lt;int&gt; | user_name &lt;chr&gt; | raw_timestamp_part_1 &lt;int&gt; | raw_timestamp_part_2 &lt;int&gt; | cvtd_timestamp &lt;chr&gt; | new_window &lt;chr&gt; | num_window &lt;int&gt; | roll_belt &lt;dbl&gt; | pitch_belt &lt;dbl&gt; | yaw_belt &lt;dbl&gt; | ⋯ ⋯ | gyros_forearm_x &lt;dbl&gt; | gyros_forearm_y &lt;dbl&gt; | gyros_forearm_z &lt;dbl&gt; | accel_forearm_x &lt;int&gt; | accel_forearm_y &lt;int&gt; | accel_forearm_z &lt;int&gt; | magnet_forearm_x &lt;int&gt; | magnet_forearm_y &lt;dbl&gt; | magnet_forearm_z &lt;dbl&gt; | classe &lt;chr&gt; |\n",
       "|---|---|---|---|---|---|---|---|---|---|---|---|---|---|---|---|---|---|---|---|---|---|\n",
       "| 1 | 1 | carlitos | 1323084231 | 788290 | 05/12/2011 11:23 | no | 11 | 1.41 | 8.07 | -94.4 | ⋯ | 0.03 |  0.00 | -0.02 | 192 | 203 | -215 | -17 | 654 | 476 | A |\n",
       "| 2 | 2 | carlitos | 1323084231 | 808298 | 05/12/2011 11:23 | no | 11 | 1.41 | 8.07 | -94.4 | ⋯ | 0.02 |  0.00 | -0.02 | 192 | 203 | -216 | -18 | 661 | 473 | A |\n",
       "| 3 | 3 | carlitos | 1323084231 | 820366 | 05/12/2011 11:23 | no | 11 | 1.42 | 8.07 | -94.4 | ⋯ | 0.03 | -0.02 |  0.00 | 196 | 204 | -213 | -18 | 658 | 469 | A |\n",
       "| 4 | 4 | carlitos | 1323084232 | 120339 | 05/12/2011 11:23 | no | 12 | 1.48 | 8.05 | -94.4 | ⋯ | 0.02 | -0.02 |  0.00 | 189 | 206 | -214 | -16 | 658 | 469 | A |\n",
       "| 5 | 5 | carlitos | 1323084232 | 196328 | 05/12/2011 11:23 | no | 12 | 1.48 | 8.07 | -94.4 | ⋯ | 0.02 |  0.00 | -0.02 | 189 | 206 | -214 | -17 | 655 | 473 | A |\n",
       "| 6 | 6 | carlitos | 1323084232 | 304277 | 05/12/2011 11:23 | no | 12 | 1.45 | 8.06 | -94.4 | ⋯ | 0.02 | -0.02 | -0.03 | 193 | 203 | -215 |  -9 | 660 | 478 | A |\n",
       "\n"
      ],
      "text/plain": [
       "  X user_name raw_timestamp_part_1 raw_timestamp_part_2 cvtd_timestamp  \n",
       "1 1 carlitos  1323084231           788290               05/12/2011 11:23\n",
       "2 2 carlitos  1323084231           808298               05/12/2011 11:23\n",
       "3 3 carlitos  1323084231           820366               05/12/2011 11:23\n",
       "4 4 carlitos  1323084232           120339               05/12/2011 11:23\n",
       "5 5 carlitos  1323084232           196328               05/12/2011 11:23\n",
       "6 6 carlitos  1323084232           304277               05/12/2011 11:23\n",
       "  new_window num_window roll_belt pitch_belt yaw_belt ⋯ gyros_forearm_x\n",
       "1 no         11         1.41      8.07       -94.4    ⋯ 0.03           \n",
       "2 no         11         1.41      8.07       -94.4    ⋯ 0.02           \n",
       "3 no         11         1.42      8.07       -94.4    ⋯ 0.03           \n",
       "4 no         12         1.48      8.05       -94.4    ⋯ 0.02           \n",
       "5 no         12         1.48      8.07       -94.4    ⋯ 0.02           \n",
       "6 no         12         1.45      8.06       -94.4    ⋯ 0.02           \n",
       "  gyros_forearm_y gyros_forearm_z accel_forearm_x accel_forearm_y\n",
       "1  0.00           -0.02           192             203            \n",
       "2  0.00           -0.02           192             203            \n",
       "3 -0.02            0.00           196             204            \n",
       "4 -0.02            0.00           189             206            \n",
       "5  0.00           -0.02           189             206            \n",
       "6 -0.02           -0.03           193             203            \n",
       "  accel_forearm_z magnet_forearm_x magnet_forearm_y magnet_forearm_z classe\n",
       "1 -215            -17              654              476              A     \n",
       "2 -216            -18              661              473              A     \n",
       "3 -213            -18              658              469              A     \n",
       "4 -214            -16              658              469              A     \n",
       "5 -214            -17              655              473              A     \n",
       "6 -215             -9              660              478              A     "
      ]
     },
     "metadata": {},
     "output_type": "display_data"
    }
   ],
   "source": [
    "head(training_data)"
   ]
  },
  {
   "cell_type": "code",
   "execution_count": 4,
   "id": "deb3ea37-7479-4705-9f54-211eee57411e",
   "metadata": {},
   "outputs": [
    {
     "data": {
      "text/html": [
       "<table class=\"dataframe\">\n",
       "<caption>A data.frame: 6 × 160</caption>\n",
       "<thead>\n",
       "\t<tr><th></th><th scope=col>X</th><th scope=col>user_name</th><th scope=col>raw_timestamp_part_1</th><th scope=col>raw_timestamp_part_2</th><th scope=col>cvtd_timestamp</th><th scope=col>new_window</th><th scope=col>num_window</th><th scope=col>roll_belt</th><th scope=col>pitch_belt</th><th scope=col>yaw_belt</th><th scope=col>⋯</th><th scope=col>gyros_forearm_x</th><th scope=col>gyros_forearm_y</th><th scope=col>gyros_forearm_z</th><th scope=col>accel_forearm_x</th><th scope=col>accel_forearm_y</th><th scope=col>accel_forearm_z</th><th scope=col>magnet_forearm_x</th><th scope=col>magnet_forearm_y</th><th scope=col>magnet_forearm_z</th><th scope=col>problem_id</th></tr>\n",
       "\t<tr><th></th><th scope=col>&lt;int&gt;</th><th scope=col>&lt;chr&gt;</th><th scope=col>&lt;int&gt;</th><th scope=col>&lt;int&gt;</th><th scope=col>&lt;chr&gt;</th><th scope=col>&lt;chr&gt;</th><th scope=col>&lt;int&gt;</th><th scope=col>&lt;dbl&gt;</th><th scope=col>&lt;dbl&gt;</th><th scope=col>&lt;dbl&gt;</th><th scope=col>⋯</th><th scope=col>&lt;dbl&gt;</th><th scope=col>&lt;dbl&gt;</th><th scope=col>&lt;dbl&gt;</th><th scope=col>&lt;int&gt;</th><th scope=col>&lt;int&gt;</th><th scope=col>&lt;int&gt;</th><th scope=col>&lt;int&gt;</th><th scope=col>&lt;int&gt;</th><th scope=col>&lt;int&gt;</th><th scope=col>&lt;int&gt;</th></tr>\n",
       "</thead>\n",
       "<tbody>\n",
       "\t<tr><th scope=row>1</th><td>1</td><td>pedro </td><td>1323095002</td><td>868349</td><td>05/12/2011 14:23</td><td>no</td><td> 74</td><td>123.00</td><td> 27.00</td><td> -4.75</td><td>⋯</td><td> 0.74</td><td>-3.34</td><td>-0.59</td><td>-110</td><td>267</td><td>-149</td><td>-714</td><td> 419</td><td>617</td><td>1</td></tr>\n",
       "\t<tr><th scope=row>2</th><td>2</td><td>jeremy</td><td>1322673067</td><td>778725</td><td>30/11/2011 17:11</td><td>no</td><td>431</td><td>  1.02</td><td>  4.87</td><td>-88.90</td><td>⋯</td><td> 1.12</td><td>-2.78</td><td>-0.18</td><td> 212</td><td>297</td><td>-118</td><td>-237</td><td> 791</td><td>873</td><td>2</td></tr>\n",
       "\t<tr><th scope=row>3</th><td>3</td><td>jeremy</td><td>1322673075</td><td>342967</td><td>30/11/2011 17:11</td><td>no</td><td>439</td><td>  0.87</td><td>  1.82</td><td>-88.50</td><td>⋯</td><td> 0.18</td><td>-0.79</td><td> 0.28</td><td> 154</td><td>271</td><td>-129</td><td> -51</td><td> 698</td><td>783</td><td>3</td></tr>\n",
       "\t<tr><th scope=row>4</th><td>4</td><td>adelmo</td><td>1322832789</td><td>560311</td><td>02/12/2011 13:33</td><td>no</td><td>194</td><td>125.00</td><td>-41.60</td><td>162.00</td><td>⋯</td><td> 1.38</td><td> 0.69</td><td> 1.80</td><td> -92</td><td>406</td><td> -39</td><td>-233</td><td> 783</td><td>521</td><td>4</td></tr>\n",
       "\t<tr><th scope=row>5</th><td>5</td><td>eurico</td><td>1322489635</td><td>814776</td><td>28/11/2011 14:13</td><td>no</td><td>235</td><td>  1.35</td><td>  3.33</td><td>-88.60</td><td>⋯</td><td>-0.75</td><td> 3.10</td><td> 0.80</td><td> 131</td><td>-93</td><td> 172</td><td> 375</td><td>-787</td><td> 91</td><td>5</td></tr>\n",
       "\t<tr><th scope=row>6</th><td>6</td><td>jeremy</td><td>1322673149</td><td>510661</td><td>30/11/2011 17:12</td><td>no</td><td>504</td><td> -5.92</td><td>  1.59</td><td>-87.70</td><td>⋯</td><td>-0.88</td><td> 4.26</td><td> 1.35</td><td> 230</td><td>322</td><td>-144</td><td>-300</td><td> 800</td><td>884</td><td>6</td></tr>\n",
       "</tbody>\n",
       "</table>\n"
      ],
      "text/latex": [
       "A data.frame: 6 × 160\n",
       "\\begin{tabular}{r|lllllllllllllllllllll}\n",
       "  & X & user\\_name & raw\\_timestamp\\_part\\_1 & raw\\_timestamp\\_part\\_2 & cvtd\\_timestamp & new\\_window & num\\_window & roll\\_belt & pitch\\_belt & yaw\\_belt & ⋯ & gyros\\_forearm\\_x & gyros\\_forearm\\_y & gyros\\_forearm\\_z & accel\\_forearm\\_x & accel\\_forearm\\_y & accel\\_forearm\\_z & magnet\\_forearm\\_x & magnet\\_forearm\\_y & magnet\\_forearm\\_z & problem\\_id\\\\\n",
       "  & <int> & <chr> & <int> & <int> & <chr> & <chr> & <int> & <dbl> & <dbl> & <dbl> & ⋯ & <dbl> & <dbl> & <dbl> & <int> & <int> & <int> & <int> & <int> & <int> & <int>\\\\\n",
       "\\hline\n",
       "\t1 & 1 & pedro  & 1323095002 & 868349 & 05/12/2011 14:23 & no &  74 & 123.00 &  27.00 &  -4.75 & ⋯ &  0.74 & -3.34 & -0.59 & -110 & 267 & -149 & -714 &  419 & 617 & 1\\\\\n",
       "\t2 & 2 & jeremy & 1322673067 & 778725 & 30/11/2011 17:11 & no & 431 &   1.02 &   4.87 & -88.90 & ⋯ &  1.12 & -2.78 & -0.18 &  212 & 297 & -118 & -237 &  791 & 873 & 2\\\\\n",
       "\t3 & 3 & jeremy & 1322673075 & 342967 & 30/11/2011 17:11 & no & 439 &   0.87 &   1.82 & -88.50 & ⋯ &  0.18 & -0.79 &  0.28 &  154 & 271 & -129 &  -51 &  698 & 783 & 3\\\\\n",
       "\t4 & 4 & adelmo & 1322832789 & 560311 & 02/12/2011 13:33 & no & 194 & 125.00 & -41.60 & 162.00 & ⋯ &  1.38 &  0.69 &  1.80 &  -92 & 406 &  -39 & -233 &  783 & 521 & 4\\\\\n",
       "\t5 & 5 & eurico & 1322489635 & 814776 & 28/11/2011 14:13 & no & 235 &   1.35 &   3.33 & -88.60 & ⋯ & -0.75 &  3.10 &  0.80 &  131 & -93 &  172 &  375 & -787 &  91 & 5\\\\\n",
       "\t6 & 6 & jeremy & 1322673149 & 510661 & 30/11/2011 17:12 & no & 504 &  -5.92 &   1.59 & -87.70 & ⋯ & -0.88 &  4.26 &  1.35 &  230 & 322 & -144 & -300 &  800 & 884 & 6\\\\\n",
       "\\end{tabular}\n"
      ],
      "text/markdown": [
       "\n",
       "A data.frame: 6 × 160\n",
       "\n",
       "| <!--/--> | X &lt;int&gt; | user_name &lt;chr&gt; | raw_timestamp_part_1 &lt;int&gt; | raw_timestamp_part_2 &lt;int&gt; | cvtd_timestamp &lt;chr&gt; | new_window &lt;chr&gt; | num_window &lt;int&gt; | roll_belt &lt;dbl&gt; | pitch_belt &lt;dbl&gt; | yaw_belt &lt;dbl&gt; | ⋯ ⋯ | gyros_forearm_x &lt;dbl&gt; | gyros_forearm_y &lt;dbl&gt; | gyros_forearm_z &lt;dbl&gt; | accel_forearm_x &lt;int&gt; | accel_forearm_y &lt;int&gt; | accel_forearm_z &lt;int&gt; | magnet_forearm_x &lt;int&gt; | magnet_forearm_y &lt;int&gt; | magnet_forearm_z &lt;int&gt; | problem_id &lt;int&gt; |\n",
       "|---|---|---|---|---|---|---|---|---|---|---|---|---|---|---|---|---|---|---|---|---|---|\n",
       "| 1 | 1 | pedro  | 1323095002 | 868349 | 05/12/2011 14:23 | no |  74 | 123.00 |  27.00 |  -4.75 | ⋯ |  0.74 | -3.34 | -0.59 | -110 | 267 | -149 | -714 |  419 | 617 | 1 |\n",
       "| 2 | 2 | jeremy | 1322673067 | 778725 | 30/11/2011 17:11 | no | 431 |   1.02 |   4.87 | -88.90 | ⋯ |  1.12 | -2.78 | -0.18 |  212 | 297 | -118 | -237 |  791 | 873 | 2 |\n",
       "| 3 | 3 | jeremy | 1322673075 | 342967 | 30/11/2011 17:11 | no | 439 |   0.87 |   1.82 | -88.50 | ⋯ |  0.18 | -0.79 |  0.28 |  154 | 271 | -129 |  -51 |  698 | 783 | 3 |\n",
       "| 4 | 4 | adelmo | 1322832789 | 560311 | 02/12/2011 13:33 | no | 194 | 125.00 | -41.60 | 162.00 | ⋯ |  1.38 |  0.69 |  1.80 |  -92 | 406 |  -39 | -233 |  783 | 521 | 4 |\n",
       "| 5 | 5 | eurico | 1322489635 | 814776 | 28/11/2011 14:13 | no | 235 |   1.35 |   3.33 | -88.60 | ⋯ | -0.75 |  3.10 |  0.80 |  131 | -93 |  172 |  375 | -787 |  91 | 5 |\n",
       "| 6 | 6 | jeremy | 1322673149 | 510661 | 30/11/2011 17:12 | no | 504 |  -5.92 |   1.59 | -87.70 | ⋯ | -0.88 |  4.26 |  1.35 |  230 | 322 | -144 | -300 |  800 | 884 | 6 |\n",
       "\n"
      ],
      "text/plain": [
       "  X user_name raw_timestamp_part_1 raw_timestamp_part_2 cvtd_timestamp  \n",
       "1 1 pedro     1323095002           868349               05/12/2011 14:23\n",
       "2 2 jeremy    1322673067           778725               30/11/2011 17:11\n",
       "3 3 jeremy    1322673075           342967               30/11/2011 17:11\n",
       "4 4 adelmo    1322832789           560311               02/12/2011 13:33\n",
       "5 5 eurico    1322489635           814776               28/11/2011 14:13\n",
       "6 6 jeremy    1322673149           510661               30/11/2011 17:12\n",
       "  new_window num_window roll_belt pitch_belt yaw_belt ⋯ gyros_forearm_x\n",
       "1 no          74        123.00     27.00      -4.75   ⋯  0.74          \n",
       "2 no         431          1.02      4.87     -88.90   ⋯  1.12          \n",
       "3 no         439          0.87      1.82     -88.50   ⋯  0.18          \n",
       "4 no         194        125.00    -41.60     162.00   ⋯  1.38          \n",
       "5 no         235          1.35      3.33     -88.60   ⋯ -0.75          \n",
       "6 no         504         -5.92      1.59     -87.70   ⋯ -0.88          \n",
       "  gyros_forearm_y gyros_forearm_z accel_forearm_x accel_forearm_y\n",
       "1 -3.34           -0.59           -110            267            \n",
       "2 -2.78           -0.18            212            297            \n",
       "3 -0.79            0.28            154            271            \n",
       "4  0.69            1.80            -92            406            \n",
       "5  3.10            0.80            131            -93            \n",
       "6  4.26            1.35            230            322            \n",
       "  accel_forearm_z magnet_forearm_x magnet_forearm_y magnet_forearm_z problem_id\n",
       "1 -149            -714              419             617              1         \n",
       "2 -118            -237              791             873              2         \n",
       "3 -129             -51              698             783              3         \n",
       "4  -39            -233              783             521              4         \n",
       "5  172             375             -787              91              5         \n",
       "6 -144            -300              800             884              6         "
      ]
     },
     "metadata": {},
     "output_type": "display_data"
    }
   ],
   "source": [
    "head(testing_data)"
   ]
  },
  {
   "cell_type": "code",
   "execution_count": 5,
   "id": "afd14ed7-afca-4d6f-ab64-ff85edab6ddf",
   "metadata": {},
   "outputs": [
    {
     "data": {
      "text/html": [
       "<style>\n",
       ".list-inline {list-style: none; margin:0; padding: 0}\n",
       ".list-inline>li {display: inline-block}\n",
       ".list-inline>li:not(:last-child)::after {content: \"\\00b7\"; padding: 0 .5ex}\n",
       "</style>\n",
       "<ol class=list-inline><li>19622</li><li>160</li></ol>\n"
      ],
      "text/latex": [
       "\\begin{enumerate*}\n",
       "\\item 19622\n",
       "\\item 160\n",
       "\\end{enumerate*}\n"
      ],
      "text/markdown": [
       "1. 19622\n",
       "2. 160\n",
       "\n",
       "\n"
      ],
      "text/plain": [
       "[1] 19622   160"
      ]
     },
     "metadata": {},
     "output_type": "display_data"
    },
    {
     "data": {
      "text/html": [
       "<style>\n",
       ".list-inline {list-style: none; margin:0; padding: 0}\n",
       ".list-inline>li {display: inline-block}\n",
       ".list-inline>li:not(:last-child)::after {content: \"\\00b7\"; padding: 0 .5ex}\n",
       "</style>\n",
       "<ol class=list-inline><li>20</li><li>160</li></ol>\n"
      ],
      "text/latex": [
       "\\begin{enumerate*}\n",
       "\\item 20\n",
       "\\item 160\n",
       "\\end{enumerate*}\n"
      ],
      "text/markdown": [
       "1. 20\n",
       "2. 160\n",
       "\n",
       "\n"
      ],
      "text/plain": [
       "[1]  20 160"
      ]
     },
     "metadata": {},
     "output_type": "display_data"
    }
   ],
   "source": [
    "dim(training_data)\n",
    "dim(testing_data)"
   ]
  },
  {
   "cell_type": "markdown",
   "id": "4e2c9e6b-700a-4c4a-9b1c-db990b22ced4",
   "metadata": {},
   "source": [
    "## **Preprocessing**"
   ]
  },
  {
   "cell_type": "code",
   "execution_count": 6,
   "id": "f7db626a-ff44-457b-a61b-26827fe538ce",
   "metadata": {},
   "outputs": [],
   "source": [
    "nonZero <- nearZeroVar(training_data)\n",
    "\n",
    "training_data <- training_data[, -nonZero]\n",
    "testing_data <- testing_data[, -nonZero]"
   ]
  },
  {
   "cell_type": "code",
   "execution_count": 7,
   "id": "cac5ab73-458c-42c8-a8c1-95658854b8d5",
   "metadata": {},
   "outputs": [
    {
     "data": {
      "text/html": [
       "<style>\n",
       ".list-inline {list-style: none; margin:0; padding: 0}\n",
       ".list-inline>li {display: inline-block}\n",
       ".list-inline>li:not(:last-child)::after {content: \"\\00b7\"; padding: 0 .5ex}\n",
       "</style>\n",
       "<ol class=list-inline><li>19622</li><li>100</li></ol>\n"
      ],
      "text/latex": [
       "\\begin{enumerate*}\n",
       "\\item 19622\n",
       "\\item 100\n",
       "\\end{enumerate*}\n"
      ],
      "text/markdown": [
       "1. 19622\n",
       "2. 100\n",
       "\n",
       "\n"
      ],
      "text/plain": [
       "[1] 19622   100"
      ]
     },
     "metadata": {},
     "output_type": "display_data"
    }
   ],
   "source": [
    "dim(training_data)"
   ]
  },
  {
   "cell_type": "code",
   "execution_count": 8,
   "id": "e6e8f46e-9146-4c1f-a390-6a640d0aa046",
   "metadata": {},
   "outputs": [],
   "source": [
    "nas <- sapply(training_data, function(x) mean(is.na(x))) > 0.95"
   ]
  },
  {
   "cell_type": "code",
   "execution_count": 9,
   "id": "3d66bc57-35b2-4a26-a5c4-1ef7c8abcb6b",
   "metadata": {},
   "outputs": [
    {
     "data": {
      "text/html": [
       "<style>\n",
       ".dl-inline {width: auto; margin:0; padding: 0}\n",
       ".dl-inline>dt, .dl-inline>dd {float: none; width: auto; display: inline-block}\n",
       ".dl-inline>dt::after {content: \":\\0020\"; padding-right: .5ex}\n",
       ".dl-inline>dt:not(:first-of-type) {padding-left: .5ex}\n",
       "</style><dl class=dl-inline><dt>X</dt><dd>FALSE</dd><dt>user_name</dt><dd>FALSE</dd><dt>raw_timestamp_part_1</dt><dd>FALSE</dd><dt>raw_timestamp_part_2</dt><dd>FALSE</dd><dt>cvtd_timestamp</dt><dd>FALSE</dd><dt>num_window</dt><dd>FALSE</dd><dt>roll_belt</dt><dd>FALSE</dd><dt>pitch_belt</dt><dd>FALSE</dd><dt>yaw_belt</dt><dd>FALSE</dd><dt>total_accel_belt</dt><dd>FALSE</dd><dt>max_roll_belt</dt><dd>TRUE</dd><dt>max_picth_belt</dt><dd>TRUE</dd><dt>min_roll_belt</dt><dd>TRUE</dd><dt>min_pitch_belt</dt><dd>TRUE</dd><dt>amplitude_roll_belt</dt><dd>TRUE</dd><dt>amplitude_pitch_belt</dt><dd>TRUE</dd><dt>var_total_accel_belt</dt><dd>TRUE</dd><dt>avg_roll_belt</dt><dd>TRUE</dd><dt>stddev_roll_belt</dt><dd>TRUE</dd><dt>var_roll_belt</dt><dd>TRUE</dd><dt>avg_pitch_belt</dt><dd>TRUE</dd><dt>stddev_pitch_belt</dt><dd>TRUE</dd><dt>var_pitch_belt</dt><dd>TRUE</dd><dt>avg_yaw_belt</dt><dd>TRUE</dd><dt>stddev_yaw_belt</dt><dd>TRUE</dd><dt>var_yaw_belt</dt><dd>TRUE</dd><dt>gyros_belt_x</dt><dd>FALSE</dd><dt>gyros_belt_y</dt><dd>FALSE</dd><dt>gyros_belt_z</dt><dd>FALSE</dd><dt>accel_belt_x</dt><dd>FALSE</dd><dt>accel_belt_y</dt><dd>FALSE</dd><dt>accel_belt_z</dt><dd>FALSE</dd><dt>magnet_belt_x</dt><dd>FALSE</dd><dt>magnet_belt_y</dt><dd>FALSE</dd><dt>magnet_belt_z</dt><dd>FALSE</dd><dt>roll_arm</dt><dd>FALSE</dd><dt>pitch_arm</dt><dd>FALSE</dd><dt>yaw_arm</dt><dd>FALSE</dd><dt>total_accel_arm</dt><dd>FALSE</dd><dt>var_accel_arm</dt><dd>TRUE</dd><dt>gyros_arm_x</dt><dd>FALSE</dd><dt>gyros_arm_y</dt><dd>FALSE</dd><dt>gyros_arm_z</dt><dd>FALSE</dd><dt>accel_arm_x</dt><dd>FALSE</dd><dt>accel_arm_y</dt><dd>FALSE</dd><dt>accel_arm_z</dt><dd>FALSE</dd><dt>magnet_arm_x</dt><dd>FALSE</dd><dt>magnet_arm_y</dt><dd>FALSE</dd><dt>magnet_arm_z</dt><dd>FALSE</dd><dt>max_picth_arm</dt><dd>TRUE</dd><dt>max_yaw_arm</dt><dd>TRUE</dd><dt>min_yaw_arm</dt><dd>TRUE</dd><dt>amplitude_yaw_arm</dt><dd>TRUE</dd><dt>roll_dumbbell</dt><dd>FALSE</dd><dt>pitch_dumbbell</dt><dd>FALSE</dd><dt>yaw_dumbbell</dt><dd>FALSE</dd><dt>max_roll_dumbbell</dt><dd>TRUE</dd><dt>max_picth_dumbbell</dt><dd>TRUE</dd><dt>min_roll_dumbbell</dt><dd>TRUE</dd><dt>min_pitch_dumbbell</dt><dd>TRUE</dd><dt>amplitude_roll_dumbbell</dt><dd>TRUE</dd><dt>amplitude_pitch_dumbbell</dt><dd>TRUE</dd><dt>total_accel_dumbbell</dt><dd>FALSE</dd><dt>var_accel_dumbbell</dt><dd>TRUE</dd><dt>avg_roll_dumbbell</dt><dd>TRUE</dd><dt>stddev_roll_dumbbell</dt><dd>TRUE</dd><dt>var_roll_dumbbell</dt><dd>TRUE</dd><dt>avg_pitch_dumbbell</dt><dd>TRUE</dd><dt>stddev_pitch_dumbbell</dt><dd>TRUE</dd><dt>var_pitch_dumbbell</dt><dd>TRUE</dd><dt>avg_yaw_dumbbell</dt><dd>TRUE</dd><dt>stddev_yaw_dumbbell</dt><dd>TRUE</dd><dt>var_yaw_dumbbell</dt><dd>TRUE</dd><dt>gyros_dumbbell_x</dt><dd>FALSE</dd><dt>gyros_dumbbell_y</dt><dd>FALSE</dd><dt>gyros_dumbbell_z</dt><dd>FALSE</dd><dt>accel_dumbbell_x</dt><dd>FALSE</dd><dt>accel_dumbbell_y</dt><dd>FALSE</dd><dt>accel_dumbbell_z</dt><dd>FALSE</dd><dt>magnet_dumbbell_x</dt><dd>FALSE</dd><dt>magnet_dumbbell_y</dt><dd>FALSE</dd><dt>magnet_dumbbell_z</dt><dd>FALSE</dd><dt>roll_forearm</dt><dd>FALSE</dd><dt>pitch_forearm</dt><dd>FALSE</dd><dt>yaw_forearm</dt><dd>FALSE</dd><dt>max_picth_forearm</dt><dd>TRUE</dd><dt>min_pitch_forearm</dt><dd>TRUE</dd><dt>amplitude_pitch_forearm</dt><dd>TRUE</dd><dt>total_accel_forearm</dt><dd>FALSE</dd><dt>var_accel_forearm</dt><dd>TRUE</dd><dt>gyros_forearm_x</dt><dd>FALSE</dd><dt>gyros_forearm_y</dt><dd>FALSE</dd><dt>gyros_forearm_z</dt><dd>FALSE</dd><dt>accel_forearm_x</dt><dd>FALSE</dd><dt>accel_forearm_y</dt><dd>FALSE</dd><dt>accel_forearm_z</dt><dd>FALSE</dd><dt>magnet_forearm_x</dt><dd>FALSE</dd><dt>magnet_forearm_y</dt><dd>FALSE</dd><dt>magnet_forearm_z</dt><dd>FALSE</dd><dt>classe</dt><dd>FALSE</dd></dl>\n"
      ],
      "text/latex": [
       "\\begin{description*}\n",
       "\\item[X] FALSE\n",
       "\\item[user\\textbackslash{}\\_name] FALSE\n",
       "\\item[raw\\textbackslash{}\\_timestamp\\textbackslash{}\\_part\\textbackslash{}\\_1] FALSE\n",
       "\\item[raw\\textbackslash{}\\_timestamp\\textbackslash{}\\_part\\textbackslash{}\\_2] FALSE\n",
       "\\item[cvtd\\textbackslash{}\\_timestamp] FALSE\n",
       "\\item[num\\textbackslash{}\\_window] FALSE\n",
       "\\item[roll\\textbackslash{}\\_belt] FALSE\n",
       "\\item[pitch\\textbackslash{}\\_belt] FALSE\n",
       "\\item[yaw\\textbackslash{}\\_belt] FALSE\n",
       "\\item[total\\textbackslash{}\\_accel\\textbackslash{}\\_belt] FALSE\n",
       "\\item[max\\textbackslash{}\\_roll\\textbackslash{}\\_belt] TRUE\n",
       "\\item[max\\textbackslash{}\\_picth\\textbackslash{}\\_belt] TRUE\n",
       "\\item[min\\textbackslash{}\\_roll\\textbackslash{}\\_belt] TRUE\n",
       "\\item[min\\textbackslash{}\\_pitch\\textbackslash{}\\_belt] TRUE\n",
       "\\item[amplitude\\textbackslash{}\\_roll\\textbackslash{}\\_belt] TRUE\n",
       "\\item[amplitude\\textbackslash{}\\_pitch\\textbackslash{}\\_belt] TRUE\n",
       "\\item[var\\textbackslash{}\\_total\\textbackslash{}\\_accel\\textbackslash{}\\_belt] TRUE\n",
       "\\item[avg\\textbackslash{}\\_roll\\textbackslash{}\\_belt] TRUE\n",
       "\\item[stddev\\textbackslash{}\\_roll\\textbackslash{}\\_belt] TRUE\n",
       "\\item[var\\textbackslash{}\\_roll\\textbackslash{}\\_belt] TRUE\n",
       "\\item[avg\\textbackslash{}\\_pitch\\textbackslash{}\\_belt] TRUE\n",
       "\\item[stddev\\textbackslash{}\\_pitch\\textbackslash{}\\_belt] TRUE\n",
       "\\item[var\\textbackslash{}\\_pitch\\textbackslash{}\\_belt] TRUE\n",
       "\\item[avg\\textbackslash{}\\_yaw\\textbackslash{}\\_belt] TRUE\n",
       "\\item[stddev\\textbackslash{}\\_yaw\\textbackslash{}\\_belt] TRUE\n",
       "\\item[var\\textbackslash{}\\_yaw\\textbackslash{}\\_belt] TRUE\n",
       "\\item[gyros\\textbackslash{}\\_belt\\textbackslash{}\\_x] FALSE\n",
       "\\item[gyros\\textbackslash{}\\_belt\\textbackslash{}\\_y] FALSE\n",
       "\\item[gyros\\textbackslash{}\\_belt\\textbackslash{}\\_z] FALSE\n",
       "\\item[accel\\textbackslash{}\\_belt\\textbackslash{}\\_x] FALSE\n",
       "\\item[accel\\textbackslash{}\\_belt\\textbackslash{}\\_y] FALSE\n",
       "\\item[accel\\textbackslash{}\\_belt\\textbackslash{}\\_z] FALSE\n",
       "\\item[magnet\\textbackslash{}\\_belt\\textbackslash{}\\_x] FALSE\n",
       "\\item[magnet\\textbackslash{}\\_belt\\textbackslash{}\\_y] FALSE\n",
       "\\item[magnet\\textbackslash{}\\_belt\\textbackslash{}\\_z] FALSE\n",
       "\\item[roll\\textbackslash{}\\_arm] FALSE\n",
       "\\item[pitch\\textbackslash{}\\_arm] FALSE\n",
       "\\item[yaw\\textbackslash{}\\_arm] FALSE\n",
       "\\item[total\\textbackslash{}\\_accel\\textbackslash{}\\_arm] FALSE\n",
       "\\item[var\\textbackslash{}\\_accel\\textbackslash{}\\_arm] TRUE\n",
       "\\item[gyros\\textbackslash{}\\_arm\\textbackslash{}\\_x] FALSE\n",
       "\\item[gyros\\textbackslash{}\\_arm\\textbackslash{}\\_y] FALSE\n",
       "\\item[gyros\\textbackslash{}\\_arm\\textbackslash{}\\_z] FALSE\n",
       "\\item[accel\\textbackslash{}\\_arm\\textbackslash{}\\_x] FALSE\n",
       "\\item[accel\\textbackslash{}\\_arm\\textbackslash{}\\_y] FALSE\n",
       "\\item[accel\\textbackslash{}\\_arm\\textbackslash{}\\_z] FALSE\n",
       "\\item[magnet\\textbackslash{}\\_arm\\textbackslash{}\\_x] FALSE\n",
       "\\item[magnet\\textbackslash{}\\_arm\\textbackslash{}\\_y] FALSE\n",
       "\\item[magnet\\textbackslash{}\\_arm\\textbackslash{}\\_z] FALSE\n",
       "\\item[max\\textbackslash{}\\_picth\\textbackslash{}\\_arm] TRUE\n",
       "\\item[max\\textbackslash{}\\_yaw\\textbackslash{}\\_arm] TRUE\n",
       "\\item[min\\textbackslash{}\\_yaw\\textbackslash{}\\_arm] TRUE\n",
       "\\item[amplitude\\textbackslash{}\\_yaw\\textbackslash{}\\_arm] TRUE\n",
       "\\item[roll\\textbackslash{}\\_dumbbell] FALSE\n",
       "\\item[pitch\\textbackslash{}\\_dumbbell] FALSE\n",
       "\\item[yaw\\textbackslash{}\\_dumbbell] FALSE\n",
       "\\item[max\\textbackslash{}\\_roll\\textbackslash{}\\_dumbbell] TRUE\n",
       "\\item[max\\textbackslash{}\\_picth\\textbackslash{}\\_dumbbell] TRUE\n",
       "\\item[min\\textbackslash{}\\_roll\\textbackslash{}\\_dumbbell] TRUE\n",
       "\\item[min\\textbackslash{}\\_pitch\\textbackslash{}\\_dumbbell] TRUE\n",
       "\\item[amplitude\\textbackslash{}\\_roll\\textbackslash{}\\_dumbbell] TRUE\n",
       "\\item[amplitude\\textbackslash{}\\_pitch\\textbackslash{}\\_dumbbell] TRUE\n",
       "\\item[total\\textbackslash{}\\_accel\\textbackslash{}\\_dumbbell] FALSE\n",
       "\\item[var\\textbackslash{}\\_accel\\textbackslash{}\\_dumbbell] TRUE\n",
       "\\item[avg\\textbackslash{}\\_roll\\textbackslash{}\\_dumbbell] TRUE\n",
       "\\item[stddev\\textbackslash{}\\_roll\\textbackslash{}\\_dumbbell] TRUE\n",
       "\\item[var\\textbackslash{}\\_roll\\textbackslash{}\\_dumbbell] TRUE\n",
       "\\item[avg\\textbackslash{}\\_pitch\\textbackslash{}\\_dumbbell] TRUE\n",
       "\\item[stddev\\textbackslash{}\\_pitch\\textbackslash{}\\_dumbbell] TRUE\n",
       "\\item[var\\textbackslash{}\\_pitch\\textbackslash{}\\_dumbbell] TRUE\n",
       "\\item[avg\\textbackslash{}\\_yaw\\textbackslash{}\\_dumbbell] TRUE\n",
       "\\item[stddev\\textbackslash{}\\_yaw\\textbackslash{}\\_dumbbell] TRUE\n",
       "\\item[var\\textbackslash{}\\_yaw\\textbackslash{}\\_dumbbell] TRUE\n",
       "\\item[gyros\\textbackslash{}\\_dumbbell\\textbackslash{}\\_x] FALSE\n",
       "\\item[gyros\\textbackslash{}\\_dumbbell\\textbackslash{}\\_y] FALSE\n",
       "\\item[gyros\\textbackslash{}\\_dumbbell\\textbackslash{}\\_z] FALSE\n",
       "\\item[accel\\textbackslash{}\\_dumbbell\\textbackslash{}\\_x] FALSE\n",
       "\\item[accel\\textbackslash{}\\_dumbbell\\textbackslash{}\\_y] FALSE\n",
       "\\item[accel\\textbackslash{}\\_dumbbell\\textbackslash{}\\_z] FALSE\n",
       "\\item[magnet\\textbackslash{}\\_dumbbell\\textbackslash{}\\_x] FALSE\n",
       "\\item[magnet\\textbackslash{}\\_dumbbell\\textbackslash{}\\_y] FALSE\n",
       "\\item[magnet\\textbackslash{}\\_dumbbell\\textbackslash{}\\_z] FALSE\n",
       "\\item[roll\\textbackslash{}\\_forearm] FALSE\n",
       "\\item[pitch\\textbackslash{}\\_forearm] FALSE\n",
       "\\item[yaw\\textbackslash{}\\_forearm] FALSE\n",
       "\\item[max\\textbackslash{}\\_picth\\textbackslash{}\\_forearm] TRUE\n",
       "\\item[min\\textbackslash{}\\_pitch\\textbackslash{}\\_forearm] TRUE\n",
       "\\item[amplitude\\textbackslash{}\\_pitch\\textbackslash{}\\_forearm] TRUE\n",
       "\\item[total\\textbackslash{}\\_accel\\textbackslash{}\\_forearm] FALSE\n",
       "\\item[var\\textbackslash{}\\_accel\\textbackslash{}\\_forearm] TRUE\n",
       "\\item[gyros\\textbackslash{}\\_forearm\\textbackslash{}\\_x] FALSE\n",
       "\\item[gyros\\textbackslash{}\\_forearm\\textbackslash{}\\_y] FALSE\n",
       "\\item[gyros\\textbackslash{}\\_forearm\\textbackslash{}\\_z] FALSE\n",
       "\\item[accel\\textbackslash{}\\_forearm\\textbackslash{}\\_x] FALSE\n",
       "\\item[accel\\textbackslash{}\\_forearm\\textbackslash{}\\_y] FALSE\n",
       "\\item[accel\\textbackslash{}\\_forearm\\textbackslash{}\\_z] FALSE\n",
       "\\item[magnet\\textbackslash{}\\_forearm\\textbackslash{}\\_x] FALSE\n",
       "\\item[magnet\\textbackslash{}\\_forearm\\textbackslash{}\\_y] FALSE\n",
       "\\item[magnet\\textbackslash{}\\_forearm\\textbackslash{}\\_z] FALSE\n",
       "\\item[classe] FALSE\n",
       "\\end{description*}\n"
      ],
      "text/markdown": [
       "X\n",
       ":   FALSEuser_name\n",
       ":   FALSEraw_timestamp_part_1\n",
       ":   FALSEraw_timestamp_part_2\n",
       ":   FALSEcvtd_timestamp\n",
       ":   FALSEnum_window\n",
       ":   FALSEroll_belt\n",
       ":   FALSEpitch_belt\n",
       ":   FALSEyaw_belt\n",
       ":   FALSEtotal_accel_belt\n",
       ":   FALSEmax_roll_belt\n",
       ":   TRUEmax_picth_belt\n",
       ":   TRUEmin_roll_belt\n",
       ":   TRUEmin_pitch_belt\n",
       ":   TRUEamplitude_roll_belt\n",
       ":   TRUEamplitude_pitch_belt\n",
       ":   TRUEvar_total_accel_belt\n",
       ":   TRUEavg_roll_belt\n",
       ":   TRUEstddev_roll_belt\n",
       ":   TRUEvar_roll_belt\n",
       ":   TRUEavg_pitch_belt\n",
       ":   TRUEstddev_pitch_belt\n",
       ":   TRUEvar_pitch_belt\n",
       ":   TRUEavg_yaw_belt\n",
       ":   TRUEstddev_yaw_belt\n",
       ":   TRUEvar_yaw_belt\n",
       ":   TRUEgyros_belt_x\n",
       ":   FALSEgyros_belt_y\n",
       ":   FALSEgyros_belt_z\n",
       ":   FALSEaccel_belt_x\n",
       ":   FALSEaccel_belt_y\n",
       ":   FALSEaccel_belt_z\n",
       ":   FALSEmagnet_belt_x\n",
       ":   FALSEmagnet_belt_y\n",
       ":   FALSEmagnet_belt_z\n",
       ":   FALSEroll_arm\n",
       ":   FALSEpitch_arm\n",
       ":   FALSEyaw_arm\n",
       ":   FALSEtotal_accel_arm\n",
       ":   FALSEvar_accel_arm\n",
       ":   TRUEgyros_arm_x\n",
       ":   FALSEgyros_arm_y\n",
       ":   FALSEgyros_arm_z\n",
       ":   FALSEaccel_arm_x\n",
       ":   FALSEaccel_arm_y\n",
       ":   FALSEaccel_arm_z\n",
       ":   FALSEmagnet_arm_x\n",
       ":   FALSEmagnet_arm_y\n",
       ":   FALSEmagnet_arm_z\n",
       ":   FALSEmax_picth_arm\n",
       ":   TRUEmax_yaw_arm\n",
       ":   TRUEmin_yaw_arm\n",
       ":   TRUEamplitude_yaw_arm\n",
       ":   TRUEroll_dumbbell\n",
       ":   FALSEpitch_dumbbell\n",
       ":   FALSEyaw_dumbbell\n",
       ":   FALSEmax_roll_dumbbell\n",
       ":   TRUEmax_picth_dumbbell\n",
       ":   TRUEmin_roll_dumbbell\n",
       ":   TRUEmin_pitch_dumbbell\n",
       ":   TRUEamplitude_roll_dumbbell\n",
       ":   TRUEamplitude_pitch_dumbbell\n",
       ":   TRUEtotal_accel_dumbbell\n",
       ":   FALSEvar_accel_dumbbell\n",
       ":   TRUEavg_roll_dumbbell\n",
       ":   TRUEstddev_roll_dumbbell\n",
       ":   TRUEvar_roll_dumbbell\n",
       ":   TRUEavg_pitch_dumbbell\n",
       ":   TRUEstddev_pitch_dumbbell\n",
       ":   TRUEvar_pitch_dumbbell\n",
       ":   TRUEavg_yaw_dumbbell\n",
       ":   TRUEstddev_yaw_dumbbell\n",
       ":   TRUEvar_yaw_dumbbell\n",
       ":   TRUEgyros_dumbbell_x\n",
       ":   FALSEgyros_dumbbell_y\n",
       ":   FALSEgyros_dumbbell_z\n",
       ":   FALSEaccel_dumbbell_x\n",
       ":   FALSEaccel_dumbbell_y\n",
       ":   FALSEaccel_dumbbell_z\n",
       ":   FALSEmagnet_dumbbell_x\n",
       ":   FALSEmagnet_dumbbell_y\n",
       ":   FALSEmagnet_dumbbell_z\n",
       ":   FALSEroll_forearm\n",
       ":   FALSEpitch_forearm\n",
       ":   FALSEyaw_forearm\n",
       ":   FALSEmax_picth_forearm\n",
       ":   TRUEmin_pitch_forearm\n",
       ":   TRUEamplitude_pitch_forearm\n",
       ":   TRUEtotal_accel_forearm\n",
       ":   FALSEvar_accel_forearm\n",
       ":   TRUEgyros_forearm_x\n",
       ":   FALSEgyros_forearm_y\n",
       ":   FALSEgyros_forearm_z\n",
       ":   FALSEaccel_forearm_x\n",
       ":   FALSEaccel_forearm_y\n",
       ":   FALSEaccel_forearm_z\n",
       ":   FALSEmagnet_forearm_x\n",
       ":   FALSEmagnet_forearm_y\n",
       ":   FALSEmagnet_forearm_z\n",
       ":   FALSEclasse\n",
       ":   FALSE\n",
       "\n"
      ],
      "text/plain": [
       "                       X                user_name     raw_timestamp_part_1 \n",
       "                   FALSE                    FALSE                    FALSE \n",
       "    raw_timestamp_part_2           cvtd_timestamp               num_window \n",
       "                   FALSE                    FALSE                    FALSE \n",
       "               roll_belt               pitch_belt                 yaw_belt \n",
       "                   FALSE                    FALSE                    FALSE \n",
       "        total_accel_belt            max_roll_belt           max_picth_belt \n",
       "                   FALSE                     TRUE                     TRUE \n",
       "           min_roll_belt           min_pitch_belt      amplitude_roll_belt \n",
       "                    TRUE                     TRUE                     TRUE \n",
       "    amplitude_pitch_belt     var_total_accel_belt            avg_roll_belt \n",
       "                    TRUE                     TRUE                     TRUE \n",
       "        stddev_roll_belt            var_roll_belt           avg_pitch_belt \n",
       "                    TRUE                     TRUE                     TRUE \n",
       "       stddev_pitch_belt           var_pitch_belt             avg_yaw_belt \n",
       "                    TRUE                     TRUE                     TRUE \n",
       "         stddev_yaw_belt             var_yaw_belt             gyros_belt_x \n",
       "                    TRUE                     TRUE                    FALSE \n",
       "            gyros_belt_y             gyros_belt_z             accel_belt_x \n",
       "                   FALSE                    FALSE                    FALSE \n",
       "            accel_belt_y             accel_belt_z            magnet_belt_x \n",
       "                   FALSE                    FALSE                    FALSE \n",
       "           magnet_belt_y            magnet_belt_z                 roll_arm \n",
       "                   FALSE                    FALSE                    FALSE \n",
       "               pitch_arm                  yaw_arm          total_accel_arm \n",
       "                   FALSE                    FALSE                    FALSE \n",
       "           var_accel_arm              gyros_arm_x              gyros_arm_y \n",
       "                    TRUE                    FALSE                    FALSE \n",
       "             gyros_arm_z              accel_arm_x              accel_arm_y \n",
       "                   FALSE                    FALSE                    FALSE \n",
       "             accel_arm_z             magnet_arm_x             magnet_arm_y \n",
       "                   FALSE                    FALSE                    FALSE \n",
       "            magnet_arm_z            max_picth_arm              max_yaw_arm \n",
       "                   FALSE                     TRUE                     TRUE \n",
       "             min_yaw_arm        amplitude_yaw_arm            roll_dumbbell \n",
       "                    TRUE                     TRUE                    FALSE \n",
       "          pitch_dumbbell             yaw_dumbbell        max_roll_dumbbell \n",
       "                   FALSE                    FALSE                     TRUE \n",
       "      max_picth_dumbbell        min_roll_dumbbell       min_pitch_dumbbell \n",
       "                    TRUE                     TRUE                     TRUE \n",
       " amplitude_roll_dumbbell amplitude_pitch_dumbbell     total_accel_dumbbell \n",
       "                    TRUE                     TRUE                    FALSE \n",
       "      var_accel_dumbbell        avg_roll_dumbbell     stddev_roll_dumbbell \n",
       "                    TRUE                     TRUE                     TRUE \n",
       "       var_roll_dumbbell       avg_pitch_dumbbell    stddev_pitch_dumbbell \n",
       "                    TRUE                     TRUE                     TRUE \n",
       "      var_pitch_dumbbell         avg_yaw_dumbbell      stddev_yaw_dumbbell \n",
       "                    TRUE                     TRUE                     TRUE \n",
       "        var_yaw_dumbbell         gyros_dumbbell_x         gyros_dumbbell_y \n",
       "                    TRUE                    FALSE                    FALSE \n",
       "        gyros_dumbbell_z         accel_dumbbell_x         accel_dumbbell_y \n",
       "                   FALSE                    FALSE                    FALSE \n",
       "        accel_dumbbell_z        magnet_dumbbell_x        magnet_dumbbell_y \n",
       "                   FALSE                    FALSE                    FALSE \n",
       "       magnet_dumbbell_z             roll_forearm            pitch_forearm \n",
       "                   FALSE                    FALSE                    FALSE \n",
       "             yaw_forearm        max_picth_forearm        min_pitch_forearm \n",
       "                   FALSE                     TRUE                     TRUE \n",
       " amplitude_pitch_forearm      total_accel_forearm        var_accel_forearm \n",
       "                    TRUE                    FALSE                     TRUE \n",
       "         gyros_forearm_x          gyros_forearm_y          gyros_forearm_z \n",
       "                   FALSE                    FALSE                    FALSE \n",
       "         accel_forearm_x          accel_forearm_y          accel_forearm_z \n",
       "                   FALSE                    FALSE                    FALSE \n",
       "        magnet_forearm_x         magnet_forearm_y         magnet_forearm_z \n",
       "                   FALSE                    FALSE                    FALSE \n",
       "                  classe \n",
       "                   FALSE "
      ]
     },
     "metadata": {},
     "output_type": "display_data"
    }
   ],
   "source": [
    "nas"
   ]
  },
  {
   "cell_type": "code",
   "execution_count": 10,
   "id": "8836d301-d3e8-48b7-b57b-9c892b621669",
   "metadata": {},
   "outputs": [],
   "source": [
    "training_data <- training_data[,nas == FALSE]\n",
    "testing_data <- testing_data[,nas == FALSE]"
   ]
  },
  {
   "cell_type": "code",
   "execution_count": 11,
   "id": "6cea7b8c-57b6-4d3b-ba51-b0c18e793e78",
   "metadata": {},
   "outputs": [
    {
     "data": {
      "text/html": [
       "<style>\n",
       ".list-inline {list-style: none; margin:0; padding: 0}\n",
       ".list-inline>li {display: inline-block}\n",
       ".list-inline>li:not(:last-child)::after {content: \"\\00b7\"; padding: 0 .5ex}\n",
       "</style>\n",
       "<ol class=list-inline><li>19622</li><li>59</li></ol>\n"
      ],
      "text/latex": [
       "\\begin{enumerate*}\n",
       "\\item 19622\n",
       "\\item 59\n",
       "\\end{enumerate*}\n"
      ],
      "text/markdown": [
       "1. 19622\n",
       "2. 59\n",
       "\n",
       "\n"
      ],
      "text/plain": [
       "[1] 19622    59"
      ]
     },
     "metadata": {},
     "output_type": "display_data"
    }
   ],
   "source": [
    "dim(training_data)"
   ]
  },
  {
   "cell_type": "code",
   "execution_count": 12,
   "id": "4779fdc1-223c-4569-b1f2-83448b2aa478",
   "metadata": {},
   "outputs": [
    {
     "data": {
      "text/plain": [
       "       X          user_name         raw_timestamp_part_1 raw_timestamp_part_2\n",
       " Min.   :    1   Length:19622       Min.   :1.322e+09    Min.   :   294      \n",
       " 1st Qu.: 4906   Class :character   1st Qu.:1.323e+09    1st Qu.:252912      \n",
       " Median : 9812   Mode  :character   Median :1.323e+09    Median :496380      \n",
       " Mean   : 9812                      Mean   :1.323e+09    Mean   :500656      \n",
       " 3rd Qu.:14717                      3rd Qu.:1.323e+09    3rd Qu.:751891      \n",
       " Max.   :19622                      Max.   :1.323e+09    Max.   :998801      \n",
       " cvtd_timestamp       num_window      roll_belt        pitch_belt      \n",
       " Length:19622       Min.   :  1.0   Min.   :-28.90   Min.   :-55.8000  \n",
       " Class :character   1st Qu.:222.0   1st Qu.:  1.10   1st Qu.:  1.7600  \n",
       " Mode  :character   Median :424.0   Median :113.00   Median :  5.2800  \n",
       "                    Mean   :430.6   Mean   : 64.41   Mean   :  0.3053  \n",
       "                    3rd Qu.:644.0   3rd Qu.:123.00   3rd Qu.: 14.9000  \n",
       "                    Max.   :864.0   Max.   :162.00   Max.   : 60.3000  \n",
       "    yaw_belt       total_accel_belt  gyros_belt_x        gyros_belt_y     \n",
       " Min.   :-180.00   Min.   : 0.00    Min.   :-1.040000   Min.   :-0.64000  \n",
       " 1st Qu.: -88.30   1st Qu.: 3.00    1st Qu.:-0.030000   1st Qu.: 0.00000  \n",
       " Median : -13.00   Median :17.00    Median : 0.030000   Median : 0.02000  \n",
       " Mean   : -11.21   Mean   :11.31    Mean   :-0.005592   Mean   : 0.03959  \n",
       " 3rd Qu.:  12.90   3rd Qu.:18.00    3rd Qu.: 0.110000   3rd Qu.: 0.11000  \n",
       " Max.   : 179.00   Max.   :29.00    Max.   : 2.220000   Max.   : 0.64000  \n",
       "  gyros_belt_z      accel_belt_x       accel_belt_y     accel_belt_z    \n",
       " Min.   :-1.4600   Min.   :-120.000   Min.   :-69.00   Min.   :-275.00  \n",
       " 1st Qu.:-0.2000   1st Qu.: -21.000   1st Qu.:  3.00   1st Qu.:-162.00  \n",
       " Median :-0.1000   Median : -15.000   Median : 35.00   Median :-152.00  \n",
       " Mean   :-0.1305   Mean   :  -5.595   Mean   : 30.15   Mean   : -72.59  \n",
       " 3rd Qu.:-0.0200   3rd Qu.:  -5.000   3rd Qu.: 61.00   3rd Qu.:  27.00  \n",
       " Max.   : 1.6200   Max.   :  85.000   Max.   :164.00   Max.   : 105.00  \n",
       " magnet_belt_x   magnet_belt_y   magnet_belt_z       roll_arm      \n",
       " Min.   :-52.0   Min.   :354.0   Min.   :-623.0   Min.   :-180.00  \n",
       " 1st Qu.:  9.0   1st Qu.:581.0   1st Qu.:-375.0   1st Qu.: -31.77  \n",
       " Median : 35.0   Median :601.0   Median :-320.0   Median :   0.00  \n",
       " Mean   : 55.6   Mean   :593.7   Mean   :-345.5   Mean   :  17.83  \n",
       " 3rd Qu.: 59.0   3rd Qu.:610.0   3rd Qu.:-306.0   3rd Qu.:  77.30  \n",
       " Max.   :485.0   Max.   :673.0   Max.   : 293.0   Max.   : 180.00  \n",
       "   pitch_arm          yaw_arm          total_accel_arm  gyros_arm_x      \n",
       " Min.   :-88.800   Min.   :-180.0000   Min.   : 1.00   Min.   :-6.37000  \n",
       " 1st Qu.:-25.900   1st Qu.: -43.1000   1st Qu.:17.00   1st Qu.:-1.33000  \n",
       " Median :  0.000   Median :   0.0000   Median :27.00   Median : 0.08000  \n",
       " Mean   : -4.612   Mean   :  -0.6188   Mean   :25.51   Mean   : 0.04277  \n",
       " 3rd Qu.: 11.200   3rd Qu.:  45.8750   3rd Qu.:33.00   3rd Qu.: 1.57000  \n",
       " Max.   : 88.500   Max.   : 180.0000   Max.   :66.00   Max.   : 4.87000  \n",
       "  gyros_arm_y       gyros_arm_z       accel_arm_x       accel_arm_y    \n",
       " Min.   :-3.4400   Min.   :-2.3300   Min.   :-404.00   Min.   :-318.0  \n",
       " 1st Qu.:-0.8000   1st Qu.:-0.0700   1st Qu.:-242.00   1st Qu.: -54.0  \n",
       " Median :-0.2400   Median : 0.2300   Median : -44.00   Median :  14.0  \n",
       " Mean   :-0.2571   Mean   : 0.2695   Mean   : -60.24   Mean   :  32.6  \n",
       " 3rd Qu.: 0.1400   3rd Qu.: 0.7200   3rd Qu.:  84.00   3rd Qu.: 139.0  \n",
       " Max.   : 2.8400   Max.   : 3.0200   Max.   : 437.00   Max.   : 308.0  \n",
       "  accel_arm_z       magnet_arm_x     magnet_arm_y     magnet_arm_z   \n",
       " Min.   :-636.00   Min.   :-584.0   Min.   :-392.0   Min.   :-597.0  \n",
       " 1st Qu.:-143.00   1st Qu.:-300.0   1st Qu.:  -9.0   1st Qu.: 131.2  \n",
       " Median : -47.00   Median : 289.0   Median : 202.0   Median : 444.0  \n",
       " Mean   : -71.25   Mean   : 191.7   Mean   : 156.6   Mean   : 306.5  \n",
       " 3rd Qu.:  23.00   3rd Qu.: 637.0   3rd Qu.: 323.0   3rd Qu.: 545.0  \n",
       " Max.   : 292.00   Max.   : 782.0   Max.   : 583.0   Max.   : 694.0  \n",
       " roll_dumbbell     pitch_dumbbell     yaw_dumbbell      total_accel_dumbbell\n",
       " Min.   :-153.71   Min.   :-149.59   Min.   :-150.871   Min.   : 0.00       \n",
       " 1st Qu.: -18.49   1st Qu.: -40.89   1st Qu.: -77.644   1st Qu.: 4.00       \n",
       " Median :  48.17   Median : -20.96   Median :  -3.324   Median :10.00       \n",
       " Mean   :  23.84   Mean   : -10.78   Mean   :   1.674   Mean   :13.72       \n",
       " 3rd Qu.:  67.61   3rd Qu.:  17.50   3rd Qu.:  79.643   3rd Qu.:19.00       \n",
       " Max.   : 153.55   Max.   : 149.40   Max.   : 154.952   Max.   :58.00       \n",
       " gyros_dumbbell_x    gyros_dumbbell_y   gyros_dumbbell_z  accel_dumbbell_x \n",
       " Min.   :-204.0000   Min.   :-2.10000   Min.   : -2.380   Min.   :-419.00  \n",
       " 1st Qu.:  -0.0300   1st Qu.:-0.14000   1st Qu.: -0.310   1st Qu.: -50.00  \n",
       " Median :   0.1300   Median : 0.03000   Median : -0.130   Median :  -8.00  \n",
       " Mean   :   0.1611   Mean   : 0.04606   Mean   : -0.129   Mean   : -28.62  \n",
       " 3rd Qu.:   0.3500   3rd Qu.: 0.21000   3rd Qu.:  0.030   3rd Qu.:  11.00  \n",
       " Max.   :   2.2200   Max.   :52.00000   Max.   :317.000   Max.   : 235.00  \n",
       " accel_dumbbell_y  accel_dumbbell_z  magnet_dumbbell_x magnet_dumbbell_y\n",
       " Min.   :-189.00   Min.   :-334.00   Min.   :-643.0    Min.   :-3600    \n",
       " 1st Qu.:  -8.00   1st Qu.:-142.00   1st Qu.:-535.0    1st Qu.:  231    \n",
       " Median :  41.50   Median :  -1.00   Median :-479.0    Median :  311    \n",
       " Mean   :  52.63   Mean   : -38.32   Mean   :-328.5    Mean   :  221    \n",
       " 3rd Qu.: 111.00   3rd Qu.:  38.00   3rd Qu.:-304.0    3rd Qu.:  390    \n",
       " Max.   : 315.00   Max.   : 318.00   Max.   : 592.0    Max.   :  633    \n",
       " magnet_dumbbell_z  roll_forearm       pitch_forearm     yaw_forearm     \n",
       " Min.   :-262.00   Min.   :-180.0000   Min.   :-72.50   Min.   :-180.00  \n",
       " 1st Qu.: -45.00   1st Qu.:  -0.7375   1st Qu.:  0.00   1st Qu.: -68.60  \n",
       " Median :  13.00   Median :  21.7000   Median :  9.24   Median :   0.00  \n",
       " Mean   :  46.05   Mean   :  33.8265   Mean   : 10.71   Mean   :  19.21  \n",
       " 3rd Qu.:  95.00   3rd Qu.: 140.0000   3rd Qu.: 28.40   3rd Qu.: 110.00  \n",
       " Max.   : 452.00   Max.   : 180.0000   Max.   : 89.80   Max.   : 180.00  \n",
       " total_accel_forearm gyros_forearm_x   gyros_forearm_y     gyros_forearm_z   \n",
       " Min.   :  0.00      Min.   :-22.000   Min.   : -7.02000   Min.   : -8.0900  \n",
       " 1st Qu.: 29.00      1st Qu.: -0.220   1st Qu.: -1.46000   1st Qu.: -0.1800  \n",
       " Median : 36.00      Median :  0.050   Median :  0.03000   Median :  0.0800  \n",
       " Mean   : 34.72      Mean   :  0.158   Mean   :  0.07517   Mean   :  0.1512  \n",
       " 3rd Qu.: 41.00      3rd Qu.:  0.560   3rd Qu.:  1.62000   3rd Qu.:  0.4900  \n",
       " Max.   :108.00      Max.   :  3.970   Max.   :311.00000   Max.   :231.0000  \n",
       " accel_forearm_x   accel_forearm_y  accel_forearm_z   magnet_forearm_x \n",
       " Min.   :-498.00   Min.   :-632.0   Min.   :-446.00   Min.   :-1280.0  \n",
       " 1st Qu.:-178.00   1st Qu.:  57.0   1st Qu.:-182.00   1st Qu.: -616.0  \n",
       " Median : -57.00   Median : 201.0   Median : -39.00   Median : -378.0  \n",
       " Mean   : -61.65   Mean   : 163.7   Mean   : -55.29   Mean   : -312.6  \n",
       " 3rd Qu.:  76.00   3rd Qu.: 312.0   3rd Qu.:  26.00   3rd Qu.:  -73.0  \n",
       " Max.   : 477.00   Max.   : 923.0   Max.   : 291.00   Max.   :  672.0  \n",
       " magnet_forearm_y magnet_forearm_z    classe         \n",
       " Min.   :-896.0   Min.   :-973.0   Length:19622      \n",
       " 1st Qu.:   2.0   1st Qu.: 191.0   Class :character  \n",
       " Median : 591.0   Median : 511.0   Mode  :character  \n",
       " Mean   : 380.1   Mean   : 393.6                     \n",
       " 3rd Qu.: 737.0   3rd Qu.: 653.0                     \n",
       " Max.   :1480.0   Max.   :1090.0                     "
      ]
     },
     "metadata": {},
     "output_type": "display_data"
    }
   ],
   "source": [
    "summary(training_data)"
   ]
  },
  {
   "cell_type": "code",
   "execution_count": 13,
   "id": "c84fa98d-9f93-48dd-a639-4193757edea5",
   "metadata": {},
   "outputs": [],
   "source": [
    "chars <- sapply(training_data, is.character)"
   ]
  },
  {
   "cell_type": "code",
   "execution_count": 14,
   "id": "4e573167-e50e-4d5e-b74d-62eda447e0bf",
   "metadata": {},
   "outputs": [],
   "source": [
    "training_data <- subset(training_data, select = -c(X, user_name, cvtd_timestamp))"
   ]
  },
  {
   "cell_type": "markdown",
   "id": "4766768f-5465-4d4a-a195-55d3a48e8e51",
   "metadata": {},
   "source": [
    "### **Data Partitioning**"
   ]
  },
  {
   "cell_type": "code",
   "execution_count": 15,
   "id": "afc7877a-374a-4c9d-b71b-e4672511168f",
   "metadata": {},
   "outputs": [
    {
     "data": {
      "text/html": [
       "<style>\n",
       ".list-inline {list-style: none; margin:0; padding: 0}\n",
       ".list-inline>li {display: inline-block}\n",
       ".list-inline>li:not(:last-child)::after {content: \"\\00b7\"; padding: 0 .5ex}\n",
       "</style>\n",
       "<ol class=list-inline><li>11776</li><li>56</li></ol>\n"
      ],
      "text/latex": [
       "\\begin{enumerate*}\n",
       "\\item 11776\n",
       "\\item 56\n",
       "\\end{enumerate*}\n"
      ],
      "text/markdown": [
       "1. 11776\n",
       "2. 56\n",
       "\n",
       "\n"
      ],
      "text/plain": [
       "[1] 11776    56"
      ]
     },
     "metadata": {},
     "output_type": "display_data"
    }
   ],
   "source": [
    "partition <- createDataPartition(training_data$classe, p=0.6, list=FALSE)\n",
    "training_data <- training_data[partition,]\n",
    "testing_data <- training_data[-partition,]\n",
    "\n",
    "dim(training_data)"
   ]
  },
  {
   "cell_type": "code",
   "execution_count": 16,
   "id": "829d241e-3340-4a2e-a11b-7945fd61ef9c",
   "metadata": {},
   "outputs": [
    {
     "data": {
      "text/html": [
       "<style>\n",
       ".list-inline {list-style: none; margin:0; padding: 0}\n",
       ".list-inline>li {display: inline-block}\n",
       ".list-inline>li:not(:last-child)::after {content: \"\\00b7\"; padding: 0 .5ex}\n",
       "</style>\n",
       "<ol class=list-inline><li>4710</li><li>56</li></ol>\n"
      ],
      "text/latex": [
       "\\begin{enumerate*}\n",
       "\\item 4710\n",
       "\\item 56\n",
       "\\end{enumerate*}\n"
      ],
      "text/markdown": [
       "1. 4710\n",
       "2. 56\n",
       "\n",
       "\n"
      ],
      "text/plain": [
       "[1] 4710   56"
      ]
     },
     "metadata": {},
     "output_type": "display_data"
    }
   ],
   "source": [
    "dim(testing_data)"
   ]
  },
  {
   "cell_type": "markdown",
   "id": "4a0796f6-4b8d-4263-a51e-48256b952dc1",
   "metadata": {},
   "source": [
    "### **Models**"
   ]
  },
  {
   "cell_type": "code",
   "execution_count": 17,
   "id": "4a5c654a-7301-4a01-8bc9-65f59fea7f87",
   "metadata": {},
   "outputs": [],
   "source": [
    "model <- train(classe ~ ., data = training_data, method=\"rpart\")"
   ]
  },
  {
   "cell_type": "code",
   "execution_count": 18,
   "id": "54b0ee1b-d5c4-48e1-8a8c-20bb5dfb733a",
   "metadata": {},
   "outputs": [],
   "source": [
    "pred <- predict(model, testing_data)"
   ]
  },
  {
   "cell_type": "code",
   "execution_count": 20,
   "id": "1902fd17-a315-4290-89c2-6dc8a61a0de4",
   "metadata": {},
   "outputs": [
    {
     "data": {
      "text/plain": [
       "Confusion Matrix and Statistics\n",
       "\n",
       "          Reference\n",
       "Prediction    A    B    C    D    E\n",
       "         A 1217  406  374  360  112\n",
       "         B   15  308   24  126  123\n",
       "         C   96  191  428  283  221\n",
       "         D    0    0    0    0    0\n",
       "         E   17    0    0    0  409\n",
       "\n",
       "Overall Statistics\n",
       "                                          \n",
       "               Accuracy : 0.5015          \n",
       "                 95% CI : (0.4871, 0.5159)\n",
       "    No Information Rate : 0.2856          \n",
       "    P-Value [Acc > NIR] : < 2.2e-16       \n",
       "                                          \n",
       "                  Kappa : 0.3475          \n",
       "                                          \n",
       " Mcnemar's Test P-Value : NA              \n",
       "\n",
       "Statistics by Class:\n",
       "\n",
       "                     Class: A Class: B Class: C Class: D Class: E\n",
       "Sensitivity            0.9048  0.34033  0.51816   0.0000  0.47283\n",
       "Specificity            0.6279  0.92431  0.79634   1.0000  0.99558\n",
       "Pos Pred Value         0.4929  0.51678  0.35111      NaN  0.96009\n",
       "Neg Pred Value         0.9429  0.85489  0.88599   0.8367  0.89356\n",
       "Prevalence             0.2856  0.19214  0.17537   0.1633  0.18365\n",
       "Detection Rate         0.2584  0.06539  0.09087   0.0000  0.08684\n",
       "Detection Prevalence   0.5242  0.12654  0.25881   0.0000  0.09045\n",
       "Balanced Accuracy      0.7664  0.63232  0.65725   0.5000  0.73421"
      ]
     },
     "metadata": {},
     "output_type": "display_data"
    }
   ],
   "source": [
    "confusionMatrix(pred, as.factor(testing_data$classe))\n"
   ]
  },
  {
   "cell_type": "code",
   "execution_count": 21,
   "id": "0c4c3fa8-004a-4280-a61e-5c95b35c9fc8",
   "metadata": {},
   "outputs": [
    {
     "data": {
      "image/png": "[encoded data removed]",
      "text/plain": [
       "plot without title"
      ]
     },
     "metadata": {
      "image/png": {
       "height": 420,
       "width": 420
      }
     },
     "output_type": "display_data"
    }
   ],
   "source": [
    "rpart.plot(model$finalModel, roundint = FALSE)"
   ]
  },
  {
   "cell_type": "code",
   "execution_count": 22,
   "id": "1710534b-efd2-4612-aec5-6e3da6685957",
   "metadata": {},
   "outputs": [],
   "source": [
    "model_2 <- train(classe ~ ., data = training_data, method = \"rf\", ntree = 50)"
   ]
  },
  {
   "cell_type": "code",
   "execution_count": 29,
   "id": "8046eea1-c083-40be-85a0-9679e5a4633b",
   "metadata": {},
   "outputs": [
    {
     "data": {
      "text/plain": [
       "Confusion Matrix and Statistics\n",
       "\n",
       "          Reference\n",
       "Prediction    A    B    C    D    E\n",
       "         A 1345    0    0    0    0\n",
       "         B    0  905    0    0    0\n",
       "         C    0    0  826    0    0\n",
       "         D    0    0    0  769    0\n",
       "         E    0    0    0    0  865\n",
       "\n",
       "Overall Statistics\n",
       "                                     \n",
       "               Accuracy : 1          \n",
       "                 95% CI : (0.9992, 1)\n",
       "    No Information Rate : 0.2856     \n",
       "    P-Value [Acc > NIR] : < 2.2e-16  \n",
       "                                     \n",
       "                  Kappa : 1          \n",
       "                                     \n",
       " Mcnemar's Test P-Value : NA         \n",
       "\n",
       "Statistics by Class:\n",
       "\n",
       "                     Class: A Class: B Class: C Class: D Class: E\n",
       "Sensitivity            1.0000   1.0000   1.0000   1.0000   1.0000\n",
       "Specificity            1.0000   1.0000   1.0000   1.0000   1.0000\n",
       "Pos Pred Value         1.0000   1.0000   1.0000   1.0000   1.0000\n",
       "Neg Pred Value         1.0000   1.0000   1.0000   1.0000   1.0000\n",
       "Prevalence             0.2856   0.1921   0.1754   0.1633   0.1837\n",
       "Detection Rate         0.2856   0.1921   0.1754   0.1633   0.1837\n",
       "Detection Prevalence   0.2856   0.1921   0.1754   0.1633   0.1837\n",
       "Balanced Accuracy      1.0000   1.0000   1.0000   1.0000   1.0000"
      ]
     },
     "metadata": {},
     "output_type": "display_data"
    }
   ],
   "source": [
    "pred1 <- predict(model_2, testing_data)\n",
    "RF_CM <- confusionMatrix(pred1, as.factor(testing_data$classe))\n",
    "RF_CM"
   ]
  },
  {
   "cell_type": "code",
   "execution_count": 27,
   "id": "7c940ddb-f836-48ff-a159-4acd849c9ef1",
   "metadata": {},
   "outputs": [],
   "source": [
    "model_3 <- train(classe ~ ., data = training_data, method = \"gbm\", verbose = FALSE)"
   ]
  },
  {
   "cell_type": "code",
   "execution_count": 30,
   "id": "3b77e5bf-8493-4077-8b15-542a17e177bc",
   "metadata": {},
   "outputs": [
    {
     "data": {
      "text/plain": [
       "Confusion Matrix and Statistics\n",
       "\n",
       "          Reference\n",
       "Prediction    A    B    C    D    E\n",
       "         A 1345    0    0    0    0\n",
       "         B    0  905    3    0    0\n",
       "         C    0    0  821    3    0\n",
       "         D    0    0    2  766    0\n",
       "         E    0    0    0    0  865\n",
       "\n",
       "Overall Statistics\n",
       "                                          \n",
       "               Accuracy : 0.9983          \n",
       "                 95% CI : (0.9967, 0.9993)\n",
       "    No Information Rate : 0.2856          \n",
       "    P-Value [Acc > NIR] : < 2.2e-16       \n",
       "                                          \n",
       "                  Kappa : 0.9979          \n",
       "                                          \n",
       " Mcnemar's Test P-Value : NA              \n",
       "\n",
       "Statistics by Class:\n",
       "\n",
       "                     Class: A Class: B Class: C Class: D Class: E\n",
       "Sensitivity            1.0000   1.0000   0.9939   0.9961   1.0000\n",
       "Specificity            1.0000   0.9992   0.9992   0.9995   1.0000\n",
       "Pos Pred Value         1.0000   0.9967   0.9964   0.9974   1.0000\n",
       "Neg Pred Value         1.0000   1.0000   0.9987   0.9992   1.0000\n",
       "Prevalence             0.2856   0.1921   0.1754   0.1633   0.1837\n",
       "Detection Rate         0.2856   0.1921   0.1743   0.1626   0.1837\n",
       "Detection Prevalence   0.2856   0.1928   0.1749   0.1631   0.1837\n",
       "Balanced Accuracy      1.0000   0.9996   0.9966   0.9978   1.0000"
      ]
     },
     "metadata": {},
     "output_type": "display_data"
    }
   ],
   "source": [
    "pred2 <- predict(model_3, testing_data)\n",
    "GBM_CM <- confusionMatrix(pred2, as.factor(testing_data$classe))\n",
    "GBM_CM"
   ]
  },
  {
   "cell_type": "code",
   "execution_count": 31,
   "id": "ed410991-935d-4ba9-9a4d-9aa9152acc7a",
   "metadata": {},
   "outputs": [
    {
     "data": {
      "text/html": [
       "<style>\n",
       ".dl-inline {width: auto; margin:0; padding: 0}\n",
       ".dl-inline>dt, .dl-inline>dd {float: none; width: auto; display: inline-block}\n",
       ".dl-inline>dt::after {content: \":\\0020\"; padding-right: .5ex}\n",
       ".dl-inline>dt:not(:first-of-type) {padding-left: .5ex}\n",
       "</style><dl class=dl-inline><dt>Accuracy</dt><dd>1</dd><dt>Kappa</dt><dd>1</dd><dt>AccuracyLower</dt><dd>0.999217105039691</dd><dt>AccuracyUpper</dt><dd>1</dd><dt>AccuracyNull</dt><dd>0.285562632696391</dd><dt>AccuracyPValue</dt><dd>0</dd><dt>McnemarPValue</dt><dd>NaN</dd></dl>\n"
      ],
      "text/latex": [
       "\\begin{description*}\n",
       "\\item[Accuracy] 1\n",
       "\\item[Kappa] 1\n",
       "\\item[AccuracyLower] 0.999217105039691\n",
       "\\item[AccuracyUpper] 1\n",
       "\\item[AccuracyNull] 0.285562632696391\n",
       "\\item[AccuracyPValue] 0\n",
       "\\item[McnemarPValue] NaN\n",
       "\\end{description*}\n"
      ],
      "text/markdown": [
       "Accuracy\n",
       ":   1Kappa\n",
       ":   1AccuracyLower\n",
       ":   0.999217105039691AccuracyUpper\n",
       ":   1AccuracyNull\n",
       ":   0.285562632696391AccuracyPValue\n",
       ":   0McnemarPValue\n",
       ":   NaN\n",
       "\n"
      ],
      "text/plain": [
       "      Accuracy          Kappa  AccuracyLower  AccuracyUpper   AccuracyNull \n",
       "     1.0000000      1.0000000      0.9992171      1.0000000      0.2855626 \n",
       "AccuracyPValue  McnemarPValue \n",
       "     0.0000000            NaN "
      ]
     },
     "metadata": {},
     "output_type": "display_data"
    }
   ],
   "source": [
    "RF_CM$overall"
   ]
  },
  {
   "cell_type": "code",
   "execution_count": 32,
   "id": "45a2516c-37b3-44f1-9e06-098a61123f1b",
   "metadata": {},
   "outputs": [
    {
     "data": {
      "text/html": [
       "<style>\n",
       ".dl-inline {width: auto; margin:0; padding: 0}\n",
       ".dl-inline>dt, .dl-inline>dd {float: none; width: auto; display: inline-block}\n",
       ".dl-inline>dt::after {content: \":\\0020\"; padding-right: .5ex}\n",
       ".dl-inline>dt:not(:first-of-type) {padding-left: .5ex}\n",
       "</style><dl class=dl-inline><dt>Accuracy</dt><dd>0.998301486199575</dd><dt>Kappa</dt><dd>0.997851019288699</dd><dt>AccuracyLower</dt><dd>0.996656008367532</dd><dt>AccuracyUpper</dt><dd>0.999266426056025</dd><dt>AccuracyNull</dt><dd>0.285562632696391</dd><dt>AccuracyPValue</dt><dd>0</dd><dt>McnemarPValue</dt><dd>NaN</dd></dl>\n"
      ],
      "text/latex": [
       "\\begin{description*}\n",
       "\\item[Accuracy] 0.998301486199575\n",
       "\\item[Kappa] 0.997851019288699\n",
       "\\item[AccuracyLower] 0.996656008367532\n",
       "\\item[AccuracyUpper] 0.999266426056025\n",
       "\\item[AccuracyNull] 0.285562632696391\n",
       "\\item[AccuracyPValue] 0\n",
       "\\item[McnemarPValue] NaN\n",
       "\\end{description*}\n"
      ],
      "text/markdown": [
       "Accuracy\n",
       ":   0.998301486199575Kappa\n",
       ":   0.997851019288699AccuracyLower\n",
       ":   0.996656008367532AccuracyUpper\n",
       ":   0.999266426056025AccuracyNull\n",
       ":   0.285562632696391AccuracyPValue\n",
       ":   0McnemarPValue\n",
       ":   NaN\n",
       "\n"
      ],
      "text/plain": [
       "      Accuracy          Kappa  AccuracyLower  AccuracyUpper   AccuracyNull \n",
       "     0.9983015      0.9978510      0.9966560      0.9992664      0.2855626 \n",
       "AccuracyPValue  McnemarPValue \n",
       "     0.0000000            NaN "
      ]
     },
     "metadata": {},
     "output_type": "display_data"
    }
   ],
   "source": [
    "GBM_CM$overall"
   ]
  },
  {
   "cell_type": "markdown",
   "id": "ebeb4728-aa17-43c4-9cb7-3791a8fabfb5",
   "metadata": {},
   "source": [
    "## **Conclusion**\n",
    "\n",
    "The Random Forest Model has a perfect accuracy of 1, so we will use this model for the final prediction"
   ]
  },
  {
   "cell_type": "code",
   "execution_count": 33,
   "id": "7bf06f5a-59d0-40aa-b80e-324b2191fc32",
   "metadata": {},
   "outputs": [],
   "source": [
    "final_pred <- read.csv('pml-testing.csv')"
   ]
  },
  {
   "cell_type": "code",
   "execution_count": 34,
   "id": "34e7f182-40c0-49f2-a3a6-418729ae95de",
   "metadata": {},
   "outputs": [
    {
     "data": {
      "text/html": [
       "<style>\n",
       ".list-inline {list-style: none; margin:0; padding: 0}\n",
       ".list-inline>li {display: inline-block}\n",
       ".list-inline>li:not(:last-child)::after {content: \"\\00b7\"; padding: 0 .5ex}\n",
       "</style>\n",
       "<ol class=list-inline><li>B</li><li>A</li><li>B</li><li>A</li><li>A</li><li>E</li><li>D</li><li>B</li><li>A</li><li>A</li><li>B</li><li>C</li><li>B</li><li>A</li><li>E</li><li>E</li><li>A</li><li>B</li><li>B</li><li>B</li></ol>\n",
       "\n",
       "<details>\n",
       "\t<summary style=display:list-item;cursor:pointer>\n",
       "\t\t<strong>Levels</strong>:\n",
       "\t</summary>\n",
       "\t<style>\n",
       "\t.list-inline {list-style: none; margin:0; padding: 0}\n",
       "\t.list-inline>li {display: inline-block}\n",
       "\t.list-inline>li:not(:last-child)::after {content: \"\\00b7\"; padding: 0 .5ex}\n",
       "\t</style>\n",
       "\t<ol class=list-inline><li>'A'</li><li>'B'</li><li>'C'</li><li>'D'</li><li>'E'</li></ol>\n",
       "</details>"
      ],
      "text/latex": [
       "\\begin{enumerate*}\n",
       "\\item B\n",
       "\\item A\n",
       "\\item B\n",
       "\\item A\n",
       "\\item A\n",
       "\\item E\n",
       "\\item D\n",
       "\\item B\n",
       "\\item A\n",
       "\\item A\n",
       "\\item B\n",
       "\\item C\n",
       "\\item B\n",
       "\\item A\n",
       "\\item E\n",
       "\\item E\n",
       "\\item A\n",
       "\\item B\n",
       "\\item B\n",
       "\\item B\n",
       "\\end{enumerate*}\n",
       "\n",
       "\\emph{Levels}: \\begin{enumerate*}\n",
       "\\item 'A'\n",
       "\\item 'B'\n",
       "\\item 'C'\n",
       "\\item 'D'\n",
       "\\item 'E'\n",
       "\\end{enumerate*}\n"
      ],
      "text/markdown": [
       "1. B\n",
       "2. A\n",
       "3. B\n",
       "4. A\n",
       "5. A\n",
       "6. E\n",
       "7. D\n",
       "8. B\n",
       "9. A\n",
       "10. A\n",
       "11. B\n",
       "12. C\n",
       "13. B\n",
       "14. A\n",
       "15. E\n",
       "16. E\n",
       "17. A\n",
       "18. B\n",
       "19. B\n",
       "20. B\n",
       "\n",
       "\n",
       "\n",
       "**Levels**: 1. 'A'\n",
       "2. 'B'\n",
       "3. 'C'\n",
       "4. 'D'\n",
       "5. 'E'\n",
       "\n",
       "\n"
      ],
      "text/plain": [
       " [1] B A B A A E D B A A B C B A E E A B B B\n",
       "Levels: A B C D E"
      ]
     },
     "metadata": {},
     "output_type": "display_data"
    }
   ],
   "source": [
    "predict(model_2, final_pred)"
   ]
  }
 ],
 "metadata": {
  "kernelspec": {
   "display_name": "R",
   "language": "R",
   "name": "ir"
  },
  "language_info": {
   "codemirror_mode": "r",
   "file_extension": ".r",
   "mimetype": "text/x-r-source",
   "name": "R",
   "pygments_lexer": "r",
   "version": "4.0.3"
  }
 },
 "nbformat": 4,
 "nbformat_minor": 5
}
